{
 "cells": [
  {
   "cell_type": "markdown",
   "metadata": {},
   "source": [
    "<center>\n",
    "    <img src=\"https://cf-courses-data.s3.us.cloud-object-storage.appdomain.cloud/IBMDeveloperSkillsNetwork-DS0105EN-SkillsNetwork/labs/Module2/images/SN_web_lightmode.png\" width=\"300\" alt=\"cognitiveclass.ai logo\">\n",
    "</center>\n"
   ]
  },
  {
   "cell_type": "markdown",
   "metadata": {},
   "source": [
    "#### Add your code below following the instructions given in the course\n"
   ]
  },
  {
   "cell_type": "markdown",
   "metadata": {},
   "source": [
    "# Data Science Final Project"
   ]
  },
  {
   "cell_type": "markdown",
   "metadata": {},
   "source": [
    "## Introduction\n",
    "This notebook is created as part of the final project for the Data Science course. It covers various exercises related to data science tools, libraries, and basic arithmetic operations.\n"
   ]
  },
  {
   "cell_type": "markdown",
   "metadata": {},
   "source": [
    "## Data Science Languages\n",
    "- Python\n",
    "- R\n",
    "- SQL\n",
    "- Julia\n",
    "- Scala\n",
    "- Java\n",
    "- C++\n",
    "- MATLAB\n",
    "- SAS\n",
    "- JavaScript\n",
    "- Go\n",
    "- Perl\n",
    "- Ruby\n",
    "- PHP\n",
    "- Fortran\n",
    "- Swift\n",
    "- Kotlin\n",
    "- Rust\n",
    "\n"
   ]
  },
  {
   "cell_type": "markdown",
   "metadata": {},
   "source": [
    "## Data Science Libraries\n",
    "- Pandas\n",
    "- NumPy\n",
    "- Matplotlib\n",
    "- Seaborn\n",
    "- Scikit-learn\n",
    "- TensorFlow\n",
    "- Keras\n",
    "- PyTorch\n",
    "- Statsmodels\n",
    "- NLTK\n",
    "- Gensim\n",
    "- XGBoost\n",
    "- LightGBM\n",
    "- OpenCV\n",
    "- Plotly\n",
    "- Bokeh\n",
    "- Altair\n",
    "- Dask\n",
    "- H2O.ai\n",
    "- Scrapy\n",
    "- BeautifulSoup\n",
    "- SymPy\n",
    "- spaCy\n",
    "- Theano\n",
    "- Pytorch\n",
    "- SciPy\n",
    "- SQLAlchemy\n",
    "- NetworkX\n",
    "- Tidyverse (for R)\n",
    "- ggplot2 (for R)\n",
    "\n"
   ]
  },
  {
   "cell_type": "markdown",
   "metadata": {},
   "source": [
    "## Data Science Tools\n",
    "| Tool           | Description                                                                                       | Category             |\n",
    "|----------------|---------------------------------------------------------------------------------------------------|----------------------|\n",
    "| **Jupyter**    | An interactive notebook environment that allows for live code, equations, visualizations, and narrative text. | Notebook Environment |\n",
    "| **RStudio**    | An integrated development environment (IDE) for R, providing a user-friendly interface for R programming. | IDE                  |\n",
    "| **Apache Spark** | A unified analytics engine for big data processing, with built-in modules for streaming, SQL, machine learning, and graph processing. | Big Data Processing  |\n",
    "| **Tableau**    | A powerful data visualization tool that helps in creating interactive and shareable dashboards.    | Data Visualization   |\n",
    "| **Hadoop**     | A framework that allows for the distributed processing of large data sets across clusters of computers using simple programming models. | Big Data Processing  |\n",
    "| **KNIME**      | An open-source data analytics, reporting, and integration platform that integrates various components for machine learning and data mining. | Data Analytics       |\n",
    "| **RapidMiner** | A data science platform that provides an integrated environment for data preparation, machine learning, deep learning, text mining, and predictive analytics. | Data Analytics       |\n",
    "| **Git**        | A distributed version control system to track changes in source code during software development.  | Version Control      |\n",
    "| **SAS**        | A software suite used for advanced analytics, business intelligence, and data management.          | Statistical Analysis |\n",
    "| **Excel**      | A spreadsheet application by Microsoft, commonly used for data analysis and visualization.         | Data Analysis        |\n",
    "| **MATLAB**     | A high-performance language for technical computing, widely used in academia and industry for data analysis and visualization. | Technical Computing  |\n",
    "| **Power BI**   | A business analytics service by Microsoft that provides interactive visualizations and business intelligence capabilities. | Data Visualization   |\n",
    "| **TensorFlow** | An end-to-end open-source platform for machine learning that is used for implementing deep learning models. | Machine Learning     |\n",
    "| **Google Colab** | A free Jupyter notebook environment that runs entirely in the cloud, allowing users to write and execute Python code through the browser. | Notebook Environment |\n",
    "| **Anaconda**   | A distribution of Python and R for scientific computing and data science, providing a package manager and environment manager. | Distribution         |\n",
    "\n",
    "This table includes a range of tools that data scientists use in their daily work, each contributing to different stages of the data science workflow, from data collection and cleaning to analysis, modeling, and visualization.\n",
    "\n"
   ]
  },
  {
   "cell_type": "markdown",
   "metadata": {},
   "source": [
    "## Arithmetic Expression Examples\n",
    "Below are examples of simple arithmetic operations such as addition, multiplication, and conversion of units.\n"
   ]
  },
  {
   "cell_type": "code",
   "execution_count": 2,
   "metadata": {
    "tags": []
   },
   "outputs": [
    {
     "data": {
      "text/plain": [
       "37"
      ]
     },
     "execution_count": 2,
     "metadata": {},
     "output_type": "execute_result"
    }
   ],
   "source": [
    "# Example of multiplication and addition\n",
    "result = (5 * 6) + 7\n",
    "result\n"
   ]
  },
  {
   "cell_type": "code",
   "execution_count": 1,
   "metadata": {
    "tags": []
   },
   "outputs": [
    {
     "data": {
      "text/plain": [
       "2.5"
      ]
     },
     "execution_count": 1,
     "metadata": {},
     "output_type": "execute_result"
    }
   ],
   "source": [
    "# Convert minutes to hours\n",
    "minutes = 150\n",
    "hours = minutes / 60\n",
    "hours\n"
   ]
  },
  {
   "cell_type": "markdown",
   "metadata": {},
   "source": [
    "## Objectives\n",
    "- List common languages used in data science.\n",
    "- Identify popular data science libraries.\n",
    "- Demonstrate basic arithmetic operations in Python.\n",
    "- Convert time units using Python.\n"
   ]
  },
  {
   "cell_type": "markdown",
   "metadata": {},
   "source": [
    "## Author\n",
    "Muhammad Adreansyah \n"
   ]
  }
 ],
 "metadata": {
  "kernelspec": {
   "display_name": "Python",
   "language": "python",
   "name": "conda-env-python-py"
  },
  "language_info": {
   "codemirror_mode": {
    "name": "ipython",
    "version": 3
   },
   "file_extension": ".py",
   "mimetype": "text/x-python",
   "name": "python",
   "nbconvert_exporter": "python",
   "pygments_lexer": "ipython3",
   "version": "3.7.12"
  }
 },
 "nbformat": 4,
 "nbformat_minor": 4
}
